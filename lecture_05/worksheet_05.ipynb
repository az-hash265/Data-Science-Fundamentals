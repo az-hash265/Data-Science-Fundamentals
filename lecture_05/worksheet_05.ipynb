{
 "cells": [
  {
   "cell_type": "markdown",
   "metadata": {},
   "source": [
    "# Worksheet 05\n",
    "\n",
    "Name: Azad Ellafi\n",
    "UID: U19478001\n",
    "\n",
    "### Topics\n",
    "\n",
    "- Cost Functions\n",
    "- Kmeans\n",
    "\n",
    "### Cost Function\n",
    "\n",
    "Solving Data Science problems often starts by defining a metric with which to evaluate solutions were you able to find some. This metric is called a cost function. Data Science then backtracks and tries to find a process / algorithm to find solutions that can optimize for that cost function.\n",
    "\n",
    "For example suppose you are asked to cluster three points A, B, C into two non-empty clusters. If someone gave you the solution `{A, B}, {C}`, how would you evaluate that this is a good solution?\n",
    "\n",
    "Notice that because the clusters need to be non-empty and all points must be assigned to a cluster, it must be that two of the three points will be together in one cluster and the third will be alone in the other cluster.\n",
    "\n",
    "In the above solution, if A and B are closer than A and C, and B and C, then this is a good solution. The smaller the distance between the two points in the same cluster (here A and B), the better the solution. So we can define our cost function to be that distance (between A and B here)!\n",
    "\n",
    "The algorithm / process would involve clustering together the two closest points and put the third in its own cluster. This process optimizes for that cost function because no other pair of points could have a lower distance (although it could equal it)."
   ]
  },
  {
   "cell_type": "markdown",
   "metadata": {},
   "source": [
    "### K means\n",
    "\n",
    "a) (1-dimensional clustering) Walk through Lloyd's algorithm step by step on the following dataset:\n",
    "\n",
    "`[0, .5, 1.5, 2, 6, 6.5, 7]` (note: each of these are 1-dimensional data points)\n",
    "\n",
    "Given the initial centroids:\n",
    "\n",
    "`[0, 2]`"
   ]
  },
  {
   "cell_type": "markdown",
   "metadata": {},
   "source": [
    "\n",
    "## Step 1: Assign Points to Nearest Centroid\n",
    "In this step, we assign each data point to the nearest centroid. To calculate the distance between a data point and a centroid, you can simply use the absolute difference in 1D space.\n",
    "\n",
    "For the first centroid (0):\n",
    "\n",
    "    Data points closer to 0: [0, 0.5]\n",
    "    Data points closer to 2: [1.5, 2, 6, 6.5, 7]\n",
    "\n",
    "So, the initial cluster assignments are:\n",
    "\n",
    "    Cluster 1: [0, 0.5]\n",
    "    Cluster 2: [1.5, 2, 6, 6.5, 7]\n",
    "\n",
    "## Step 2: Recalculate Centroids\n",
    "In this step, we recalculate the centroids for each cluster. For 1D data, the centroid is simply the mean of the data points within the cluster.\n",
    "\n",
    "For Cluster 1:\n",
    "\n",
    "    Centroid = (0 + 0.5) / 2 = 0.25\n",
    "\n",
    "For Cluster 2:\n",
    "\n",
    "    Centroid = (1.5 + 2 + 6 + 6.5 + 7) / 5 = 4.4\n",
    "\n",
    "So, the updated centroids are:\n",
    "\n",
    "    Cluster 1 centroid: 0.25\n",
    "    Cluster 2 centroid: 4.4\n",
    "\n",
    "## Step 3: Update Cluster Assignments\n",
    "Now that we have updated centroids, we reassign data points to the nearest centroids using the new centroids.\n",
    "\n",
    "For the updated Cluster 1 centroid (0.25):\n",
    "\n",
    "    Data points closer to 0.25: [0, 0.5]\n",
    "\n",
    "For the updated Cluster 2 centroid (4.4):\n",
    "\n",
    "    Data points closer to 4.4: [1.5, 2, 6, 6.5, 7]\n",
    "\n",
    "The cluster assignments remain the same because there were no changes in assignments.\n",
    "\n",
    "## Step 4: Repeat Steps 2 and 3\n",
    "You repeat steps 2 and 3 until the centroids no longer change or change very little between iterations. In this case, the cluster assignments and centroids remain the same after the first iteration.\n",
    "\n",
    "So, the final clusters and centroids are:\n",
    "\n",
    "    Cluster 1: [0, 0.5]\n",
    "\n",
    "    Cluster 2: [1.5, 2, 6, 6.5, 7]\n",
    "\n",
    "    Cluster 1 centroid: 0.25\n",
    "\n",
    "    Cluster 2 centroid: 4.4\n",
    "\n",
    "The algorithm has converged, and these are the final clusters for the given dataset with the initial centroids [0, 2]."
   ]
  },
  {
   "cell_type": "markdown",
   "metadata": {},
   "source": [
    "b) Describe in plain english what the cost function for k means is."
   ]
  },
  {
   "cell_type": "markdown",
   "metadata": {},
   "source": [
    "The cost function for K-means is a way to measure how well the data points in a dataset are grouped into clusters. It helps us determine how \"tight\" or \"compact\" the clusters are. The cost function is all about finding the best positions for cluster centers so that the data points are as close as possible to their respective cluster centers."
   ]
  },
  {
   "cell_type": "markdown",
   "metadata": {},
   "source": [
    "c) For the same number of clusters K, why could there be very different solutions to the K means algorithm on a given dataset?"
   ]
  },
  {
   "cell_type": "markdown",
   "metadata": {},
   "source": [
    "There can be different solutions to the K-means algorithm on a given dataset with the same number of clusters K because of random initialization of Centroids and sensitivity to initial Centroids."
   ]
  },
  {
   "cell_type": "markdown",
   "metadata": {},
   "source": [
    "d) Does Lloyd's Algorithm always converge? Why / why not?"
   ]
  },
  {
   "cell_type": "markdown",
   "metadata": {},
   "source": [
    "Lloyd's algorithm, does not always guarantee convergence, this can be because of poor initial centroids, etc."
   ]
  },
  {
   "cell_type": "markdown",
   "metadata": {},
   "source": [
    "e) Follow along in class the implementation of Kmeans"
   ]
  },
  {
   "cell_type": "code",
   "execution_count": 4,
   "metadata": {},
   "outputs": [],
   "source": [
    "import numpy as np\n",
    "from PIL import Image as im\n",
    "import matplotlib.pyplot as plt\n",
    "import sklearn.datasets as datasets\n",
    "\n",
    "centers = [[0, 0], [2, 2], [-3, 2], [2, -4]]\n",
    "X, _ = datasets.make_blobs(n_samples=300, centers=centers, cluster_std=1, random_state=0)\n",
    "\n",
    "class KMeans():\n",
    "\n",
    "    def __init__(self, data, k):\n",
    "        self.data = data\n",
    "        self.k = k\n",
    "        self.assignment = [-1 for _ in range(len(data))]\n",
    "        self.snaps = []\n",
    "    \n",
    "    def 2snap(self, centers):\n",
    "        TEMPFILE = \"temp.png\"\n",
    "\n",
    "        fig, ax = plt.subplots()\n",
    "        ax.scatter(X[:, 0], X[:, 1], c=self.assignment)\n",
    "        ax.scatter(centers[:,0], centers[:, 1], c='r')\n",
    "        fig.savefig(TEMPFILE)\n",
    "        plt.close()\n",
    "        self.snaps.append(im.fromarray(np.asarray(im.open(TEMPFILE))))\n",
    "\n",
    "\n",
    "    def lloyds(self):\n",
    "        # Initialize cluster centroids randomly from the data\n",
    "        centers = self.data[np.random.choice(len(self.data), self.k, replace=False)]\n",
    "\n",
    "        for _ in range(300):\n",
    "            # Assign each data point to the nearest cluster\n",
    "            for i, point in enumerate(self.data):\n",
    "                self.assignment[i] = np.argmin(np.linalg.norm(centers - point, axis=1))\n",
    "\n",
    "            # Save a snapshot of the current clustering\n",
    "            self.snap(centers)\n",
    "\n",
    "            # Update cluster centroids as the mean of data points in each cluster\n",
    "            for cluster_idx in range(self.k):\n",
    "                cluster_points = self.data[np.array(self.assignment) == cluster_idx]\n",
    "                if len(cluster_points) > 0:\n",
    "                    centers[cluster_idx] = np.mean(cluster_points, axis=0)\n",
    "\n",
    "kmeans = KMeans(X, 6)\n",
    "kmeans.lloyds()\n",
    "images = kmeans.snaps\n",
    "\n",
    "images[0].save(\n",
    "    'kmeans.gif',\n",
    "    optimize=False,\n",
    "    save_all=True,\n",
    "    append_images=images[1:],\n",
    "    loop=0,\n",
    "    duration=500\n",
    ")"
   ]
  },
  {
   "cell_type": "code",
   "execution_count": null,
   "metadata": {},
   "outputs": [],
   "source": []
  }
 ],
 "metadata": {
  "kernelspec": {
   "display_name": "Python 3 (ipykernel)",
   "language": "python",
   "name": "python3"
  },
  "language_info": {
   "codemirror_mode": {
    "name": "ipython",
    "version": 3
   },
   "file_extension": ".py",
   "mimetype": "text/x-python",
   "name": "python",
   "nbconvert_exporter": "python",
   "pygments_lexer": "ipython3",
   "version": "3.11.2"
  },
  "vscode": {
   "interpreter": {
    "hash": "76ca05dc3ea24b2e3b98cdb7774adfbb40773424bf5109b477fd793f623715af"
   }
  }
 },
 "nbformat": 4,
 "nbformat_minor": 2
}
